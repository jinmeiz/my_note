{
 "cells": [
  {
   "cell_type": "markdown",
   "metadata": {},
   "source": [
    "# Generate public key for cori"
   ]
  },
  {
   "cell_type": "markdown",
   "metadata": {},
   "source": [
    "### generate public key\n",
    "* ssh-keygen -t rsa -b 4096\n",
    "* hit Enter: create files in $HOME/.ssh named id_rsa (private key) and id_rsa.pub (public key)\n",
    "* enter a passphrase (string)\n",
    "\n",
    "### eleminate passphrase\n",
    "* run ssh-agent csh, then ssh-add ~/.ssh/id_rsa (this will eleminate the need for typing passphrase everytime)\n",
    "* login to cori, copy public key in id_rsa.pub to .ssh/authorized_key"
   ]
  },
  {
   "cell_type": "code",
   "execution_count": null,
   "metadata": {
    "collapsed": true
   },
   "outputs": [],
   "source": []
  }
 ],
 "metadata": {
  "anaconda-cloud": {},
  "kernelspec": {
   "display_name": "Python [Root]",
   "language": "python",
   "name": "Python [Root]"
  },
  "language_info": {
   "codemirror_mode": {
    "name": "ipython",
    "version": 3
   },
   "file_extension": ".py",
   "mimetype": "text/x-python",
   "name": "python",
   "nbconvert_exporter": "python",
   "pygments_lexer": "ipython3",
   "version": "3.5.2"
  }
 },
 "nbformat": 4,
 "nbformat_minor": 0
}
